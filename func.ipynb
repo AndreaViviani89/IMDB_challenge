{
 "cells": [
  {
   "cell_type": "code",
   "execution_count": 57,
   "metadata": {},
   "outputs": [
    {
     "name": "stdout",
     "output_type": "stream",
     "text": [
      "  Genre of movie Rating of movie\n",
      "0        Action,             5.4\n",
      "1          Drama             5.4\n",
      "  Genre of movie Rating of movie\n",
      "0        Action,             6.0\n",
      "1     Adventure,             6.0\n",
      "2        Fantasy             6.0\n"
     ]
    }
   ],
   "source": [
    "import requests\n",
    "from bs4 import BeautifulSoup\n",
    "import numpy as np\n",
    "import pandas as pd\n",
    "\n",
    "def movie(url):\n",
    "    page = requests.get(url)\n",
    "    page\n",
    "    soup = BeautifulSoup(page.content, \"html.parser\")\n",
    "\n",
    "    span = soup.find_all('span', class_ = 'genre')\n",
    "\n",
    "    genre = []\n",
    "    for i in span:\n",
    "         genre.append(i.text.split())\n",
    "    # return genre1     \n",
    "        \n",
    "    \n",
    "    \n",
    "    \n",
    "    span1 = soup.find_all('div', class_ = 'ratings-bar')\n",
    "    rating = []\n",
    "\n",
    "    for i in span1:\n",
    "        rating.append(i.text.split()[0])\n",
    "    data = {'Genre of movie':genre[40], \n",
    "        'Rating of movie': rating[40]}\n",
    "    df = pd.DataFrame(data) \n",
    "    print(df)   \n",
    "    \n",
    "    # return  genre, rating\n",
    "    # data = {'Genre of movie':genre, \n",
    "    #     'Rating of movie': rating}\n",
    "\n",
    "    \n",
    "\n",
    "      \n",
    "movie(\"https://www.imdb.com/search/title/?genres=action&explore=title_type,genres&pf_rd_m=A2FGELUUNOQJNL&pf_rd_p=e0da8c98-35e8-4ebd-8e86-e7d39c92730c&pf_rd_r=1RKWE9PD01BJ5422PCD3&pf_rd_s=center-2&pf_rd_t=15051&pf_rd_i=genre&ref_=ft_gnr_pr2_i_2\")\n",
    "\n",
    "movie(\"https://www.imdb.com/search/title/?genres=action&start=51&explore=title_type,genres&ref_=adv_nxt\")\n"
   ]
  },
  {
   "cell_type": "code",
   "execution_count": 58,
   "metadata": {},
   "outputs": [],
   "source": [
    "url = \"https://www.imdb.com/search/title/?genres=action&explore=title_type,genres&ref_=adv_prv\"\n",
    "page = requests.get(url)\n",
    "page\n",
    "soup = BeautifulSoup(page.content, \"html.parser\")\n"
   ]
  },
  {
   "cell_type": "code",
   "execution_count": 63,
   "metadata": {},
   "outputs": [],
   "source": [
    "content = soup.find_all('div', class_ = \"lister-item-content\")\n",
    "movie_name = content[0].find_all('a')"
   ]
  }
 ],
 "metadata": {
  "interpreter": {
   "hash": "770021e68aae5e5bc49f7a3b6edb919a4a251fef8e7696fd47196c25263b13c4"
  },
  "kernelspec": {
   "display_name": "Python 3.9.7 ('base')",
   "language": "python",
   "name": "python3"
  },
  "language_info": {
   "codemirror_mode": {
    "name": "ipython",
    "version": 3
   },
   "file_extension": ".py",
   "mimetype": "text/x-python",
   "name": "python",
   "nbconvert_exporter": "python",
   "pygments_lexer": "ipython3",
   "version": "3.9.7"
  },
  "orig_nbformat": 4
 },
 "nbformat": 4,
 "nbformat_minor": 2
}
