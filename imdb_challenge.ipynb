{
 "cells": [
  {
   "cell_type": "code",
   "execution_count": 1,
   "metadata": {},
   "outputs": [],
   "source": [
    "import pandas as pd\n",
    "import numpy as np\n",
    "import matplotlib.pyplot as plt\n",
    "\n",
    "import requests\n",
    "from bs4 import BeautifulSoup\n",
    "\n",
    "\n"
   ]
  },
  {
   "cell_type": "code",
   "execution_count": 13,
   "metadata": {},
   "outputs": [
    {
     "name": "stdout",
     "output_type": "stream",
     "text": [
      "<Response [200]>\n"
     ]
    }
   ],
   "source": [
    "page = requests.get(\"https://www.imdb.com/search/title/?genres=action&explore=title_type,genres&pf_rd_m=A2FGELUUNOQJNL&pf_rd_p=e0da8c98-35e8-4ebd-8e86-e7d39c92730c&pf_rd_r=NCWR107JR3D070SM7GBG&pf_rd_s=center-2&pf_rd_t=15051&pf_rd_i=genre&ref_=ft_gnr_pr2_i_2\")\n",
    "print(page)"
   ]
  },
  {
   "cell_type": "code",
   "execution_count": 9,
   "metadata": {},
   "outputs": [],
   "source": [
    "# page = np.arange(1, 100, 1)"
   ]
  },
  {
   "cell_type": "code",
   "execution_count": 14,
   "metadata": {},
   "outputs": [],
   "source": [
    "extract_data = BeautifulSoup(page.content, \"html.parser\" )"
   ]
  },
  {
   "cell_type": "code",
   "execution_count": 4,
   "metadata": {},
   "outputs": [],
   "source": [
    "# Creating the lists that we want to \n",
    "\n",
    "movie_name = []\n",
    "description = []\n",
    "\n",
    "duration=[]\n",
    "release_date=[]\n",
    "\n",
    "director_name = []\n",
    "stars = []\n",
    "\n",
    "\n"
   ]
  },
  {
   "cell_type": "code",
   "execution_count": 5,
   "metadata": {},
   "outputs": [
    {
     "data": {
      "text/plain": [
       "[]"
      ]
     },
     "execution_count": 5,
     "metadata": {},
     "output_type": "execute_result"
    }
   ],
   "source": [
    "list_of_directors = extract_data.find_all (\"p\", class_= \"ghost\" + \"a\", href=\"/name/nm1500155/?ref_=adv_li_st_0\")\n",
    "\n",
    "\n",
    "for i in list_of_directors:\n",
    "    director_name.append()\n",
    "\n",
    "director_name"
   ]
  },
  {
   "cell_type": "code",
   "execution_count": 6,
   "metadata": {},
   "outputs": [],
   "source": [
    "list_of_stars = extract_data.find_all ()"
   ]
  },
  {
   "cell_type": "code",
   "execution_count": 7,
   "metadata": {},
   "outputs": [
    {
     "data": {
      "text/plain": [
       "[\"\\nWhen the Riddler, a sadistic serial killer, begins murdering key political figures in Gotham, Batman is forced to investigate the city's hidden corruption and question his family's involvement.\",\n",
       " '\\nT\\n|\\n106 min\\n|\\n\\nAction, Adventure, Comedy            \\n',\n",
       " '\\nA time-traveling pilot teams up with his younger self and his late father to come to terms with his past while saving the future.',\n",
       " '\\nVM14\\n|\\n60 min\\n|\\n\\nAction, Drama, History            \\n',\n",
       " '\\nAs Alfred the Great defends his kingdom from Norse invaders, Uhtred--born a Saxon but raised by Vikings--seeks to claim his ancestral birthright.',\n",
       " '\\n\\nAction, Adventure, Sci-Fi            \\n|\\nPost-production\\n',\n",
       " \"\\nJedi Master Obi-Wan Kenobi watches over young Luke Skywalker and evades the Empire's elite Jedi hunters during his exile on the desert planet Tatooine.\",\n",
       " '\\nVM14\\n|\\n51 min\\n|\\n\\nAction, Adventure, Drama            \\n',\n",
       " \"\\nFollow-up series to 'Vikings' set 100 years afterward and centering on the adventures of Leif Erikson, Freydis, Harald Hardrada and the Norman King William the Conqueror.\",\n",
       " '\\nT\\n|\\n148 min\\n|\\n\\nAction, Adventure, Fantasy            \\n',\n",
       " \"\\nWith Spider-Man's identity now revealed, Peter asks Doctor Strange for help. When a spell goes wrong, dangerous foes from other worlds start to appear, forcing Peter to discover what it truly means to be Spider-Man.\",\n",
       " '\\n30 min\\n|\\n\\nAction, Adventure, Biography            \\n',\n",
       " '\\nThe year is 1717. Wealthy landowner Stede Bonnet has a midlife crisis and decides to blow up his cushy life to become a pirate. It does not go well. Based on a true story.',\n",
       " '\\nVM12\\n|\\n131 min\\n|\\n\\nAction, Adventure, Thriller            \\n',\n",
       " '\\nIn the early years of the 20th century, the Kingsman agency is formed to stand against a cabal plotting a war to wipe out millions.',\n",
       " '\\nVM14\\n|\\n24 min\\n|\\n\\nAnimation, Action, Adventure            \\n',\n",
       " '\\nFueled by the death of his mother at the hands of the titans, Eren Jaeger vows revenge against the species that have breached through the enclosing walls after 100 years of peace, threatening the remains of humanity.',\n",
       " '\\n\\nAction, Mystery, Thriller            \\n|\\nPost-production\\n',\n",
       " '\\nFive assassins aboard a fast moving bullet train find out their missions have something in common.',\n",
       " '\\nVM14\\n|\\n49 min\\n|\\n\\nAction, Crime, Drama            \\n',\n",
       " '\\nJack Reacher was arrested for murder and now the police need his help. Based on the books by Lee Child.',\n",
       " '\\nT\\n|\\n152 min\\n|\\n\\nAction, Crime, Drama            \\n',\n",
       " '\\nWhen the menace known as the Joker wreaks havoc and chaos on the people of Gotham, Batman must accept one of the greatest psychological and physical tests of his ability to fight injustice.',\n",
       " '\\nVM18\\n|\\n46 min\\n|\\n\\nAction, Adventure, Drama            \\n',\n",
       " '\\nFollow-up series to Star Trek: The Next Generation (1987) and Star Trek - La nemesi (2002) that centers on Jean-Luc Picard (Sir Patrick Stewart) in the next chapter of his life.',\n",
       " '\\n6+\\n|\\n116 min\\n|\\n\\nAction, Adventure            \\n',\n",
       " '\\nStreet-smart Nathan Drake is recruited by seasoned treasure hunter Victor \"Sully\" Sullivan to recover a fortune amassed by Ferdinand Magellan, and lost 500 years ago by the House of Moncada.',\n",
       " '\\nVM14\\n|\\n44 min\\n|\\n\\nAction, Adventure, Drama            \\n',\n",
       " '\\nVikings transports us to the brutal and mysterious world of Ragnar Lothbrok, a Viking warrior and farmer who yearns to explore - and raid - the distant shores across the ocean.',\n",
       " '\\nVM14\\n|\\n57 min\\n|\\n\\nAction, Adventure, Drama            \\n',\n",
       " '\\nNine noble families fight for control over the lands of Westeros, while an ancient enemy returns after being dormant for millennia.',\n",
       " '\\nT\\n|\\n115 min\\n|\\n\\nAction, Adventure, Comedy            \\n',\n",
       " \"\\nA bank teller discovers that he's actually an NPC inside a brutal, open world video game.\",\n",
       " '\\nVM14\\n|\\n14 min\\n|\\n\\nAnimation, Action, Adventure            \\n',\n",
       " '\\nThe Boys animated spin-off.',\n",
       " '\\nT\\n|\\n155 min\\n|\\n\\nAction, Adventure, Drama            \\n',\n",
       " \"\\nFeature adaptation of Frank Herbert's science fiction novel about the son of a noble family entrusted with the protection of the most valuable asset and most vital element in the galaxy.\",\n",
       " '\\n40 min\\n|\\n\\nAction, Adventure, Comedy            \\n',\n",
       " '\\nPicking up where The Suicide Squad - Missione suicida (2021) left off, Peacemaker returns home after recovering from his encounter with Bloodsport - only to discover that his freedom comes at a price.',\n",
       " '\\nVM14\\n|\\n42 min\\n|\\n\\nAction, Adventure, Drama            \\n',\n",
       " '\\nAfter a series of events, the lives of a security operative and an assassin become inextricably linked.',\n",
       " '\\nPG-13\\n|\\n104 min\\n|\\n\\nAction, Thriller            \\n',\n",
       " '\\nTravis Block is a government operative coming to terms with his shadowy past. When he discovers a plot targeting U.S. citizens, Block finds himself in the crosshairs of the FBI director he once helped protect.',\n",
       " '\\nVM18\\n|\\n30 min\\n|\\n\\nAnimation, Action, Adventure            \\n',\n",
       " '\\nWhen their seemingly fearless leader self-destructs, a team of troubled superheroes must confront festering evil in the world - and in themselves.',\n",
       " '\\nBA\\n|\\n60 min\\n|\\n\\nAction, Crime, Drama            \\n',\n",
       " \"\\nThe cases of the Naval Criminal Investigative Service's Washington, D.C. Major Case Response Team, led by Special Agent Leroy Jethro Gibbs.\",\n",
       " '\\nT\\n|\\n60 min\\n|\\n\\nAction, Adventure, Drama            \\n',\n",
       " '\\nTen years before Kirk, Spock, and the Enterprise, the USS Discovery discovers new worlds and lifeforms as one Starfleet officer learns to understand all things alien.',\n",
       " '\\n38 min\\n|\\n\\nAction, Adventure, Sci-Fi            \\n',\n",
       " \"\\nBounty hunter Boba Fett & mercenary Fennec Shand navigate the underworld when they return to Tatooine to claim Jabba the Hutt's old turf.\",\n",
       " '\\nT\\n|\\n140 min\\n|\\n\\nAction, Crime, Drama            \\n',\n",
       " '\\nAfter training with his mentor, Batman begins his fight to free crime-ridden Gotham City from corruption.',\n",
       " '\\n\\nAction, Adventure, Drama            \\n|\\nCompleted\\n',\n",
       " '\\nA former U.S. Marine, struggling with dissociative identity disorder, is granted the powers of an Egyptian moon god. But he soon finds out that these newfound powers can be both a blessing and a curse to his troubled life.',\n",
       " '\\nT\\n|\\n164 min\\n|\\n\\nAction, Crime, Drama            \\n',\n",
       " \"\\nEight years after the Joker's reign of anarchy, Batman, with the help of the enigmatic Catwoman, is forced from his exile to save Gotham City from the brutal guerrilla terrorist Bane.\",\n",
       " '\\nT\\n|\\n156 min\\n|\\n\\nAction, Adventure, Fantasy            \\n',\n",
       " '\\nThe saga of the Eternals, a race of immortal beings who lived on Earth and shaped its history and civilizations.',\n",
       " '\\nVM18\\n|\\n60 min\\n|\\n\\nAction, Crime, Drama            \\n',\n",
       " '\\nA group of vigilantes set out to take down corrupt superheroes who abuse their superpowers.',\n",
       " '\\nPG-13\\n|\\n108 min\\n|\\n\\nAction, Adventure, Drama            \\n|\\nCompleted\\n',\n",
       " '\\nBiochemist Michael Morbius tries to cure himself of a rare blood disease, but he inadvertently infects himself with a form of vampirism instead.',\n",
       " '\\nT\\n|\\n143 min\\n|\\n\\nAction, Crime, Thriller            \\n',\n",
       " \"\\nDom and the crew must take on an international terrorist who turns out to be Dom and Mia's estranged brother.\",\n",
       " '\\nVM14\\n|\\n60 min\\n|\\n\\nAction, Adventure, Drama            \\n',\n",
       " '\\nGeralt of Rivia, a solitary monster hunter, struggles to find his place in a world where people often prove more wicked than beasts.',\n",
       " '\\n\\nAction, Adventure, Fantasy            \\n|\\nPost-production\\n',\n",
       " '\\nDr. Stephen Strange casts a forbidden spell that opens the door to the multiverse, including an alternate version of himself, whose threat to humanity is too great for the combined forces of Strange, Wong, and Wanda Maximoff.',\n",
       " '\\nT\\n|\\n43 min\\n|\\n\\nAction, Adventure, Drama            \\n',\n",
       " \"\\nAfter being struck by lightning, Barry Allen wakes up from his coma to discover he's been given the power of super speed, becoming the Flash, fighting crime in Central City.\",\n",
       " '\\nT\\n|\\n126 min\\n|\\n\\nAction, Adventure            \\n',\n",
       " '\\nThe Dark Knight of Gotham City begins his war on crime with his first major enemy being Jack Napier, a criminal who becomes the clownishly homicidal Joker.',\n",
       " '\\nT\\n|\\n40 min\\n|\\n\\nAction, Adventure, Fantasy            \\n',\n",
       " '\\nThe travels of a lone bounty hunter in the outer reaches of the galaxy, far from the authority of the New Republic.',\n",
       " '\\nVM14\\n|\\n60 min\\n|\\n\\nAction, Drama, Sci-Fi            \\n',\n",
       " '\\nSeven years after the world has become a frozen wasteland, the remnants of humanity inhabit a perpetually-moving train that circles the globe, where class warfare, social injustice and the politics of survival play out.',\n",
       " '\\nT\\n|\\n163 min\\n|\\n\\nAction, Adventure, Thriller            \\n',\n",
       " '\\nJames Bond has left active service. His peace is short-lived when Felix Leiter, an old friend from the CIA, turns up asking for help, leading Bond onto the trail of a mysterious villain armed with dangerous new technology.',\n",
       " '\\nT\\n|\\n43 min\\n|\\n\\nAction, Drama            \\n',\n",
       " '\\nThe story of firefighters and paramedics in the city of Chicago, both on a personal and professional level.',\n",
       " '\\nPG-13\\n|\\n92 min\\n|\\n\\nAction, Adventure, Comedy            \\n',\n",
       " '\\nA reclusive romance novelist on a book tour with her cover model gets swept up in a kidnapping attempt that lands them both in a cutthroat jungle adventure.',\n",
       " '\\nVM14\\n|\\n98 min\\n|\\n\\nAction, Sci-Fi            \\n',\n",
       " '\\nDuring the Second American Civil War in 2017, Barb Wire owns a nightclub called the Hammerhead. Things become complicated when her ex-lover Axel Hood, who is married to the fugitive Corrina Devonshire, re-enters her life.',\n",
       " '\\n6+\\n|\\n148 min\\n|\\n\\nAction, Sci-Fi            \\n',\n",
       " '\\nReturn to a world of two realities: one, everyday life; the other, what lies behind it. To find out if his reality is a construct, to truly know himself, Mr. Anderson will have to choose to follow the white rabbit once more.',\n",
       " '\\nT\\n|\\n132 min\\n|\\n\\nAction, Adventure, Comedy            \\n',\n",
       " '\\nSupervillains Harley Quinn, Bloodsport, Peacemaker and a collection of nutty cons at Belle Reve prison join the super-secret, super-shady Task Force X as they are dropped off at the remote, enemy-infused island of Corto Maltese.',\n",
       " '\\nT\\n|\\n152 min\\n|\\n\\nAction, Drama, History            \\n',\n",
       " '\\nKing Charles VI declares that Knight Jean de Carrouges settle his dispute with his squire by challenging him to a duel.',\n",
       " '\\nT\\n|\\n121 min\\n|\\n\\nAction, Adventure            \\n',\n",
       " '\\nBatman must battle former district attorney Harvey Dent, who is now Two-Face and Edward Nygma, The Riddler with help from an amorous psychologist and a young circus acrobat who becomes his sidekick, Robin.',\n",
       " '\\n\\nAnimation, Action, Adventure            \\n|\\nPost-production\\n',\n",
       " '\\nKrypto the Super-Dog and Superman are inseparable best friends, sharing the same superpowers and fighting crime side by side in Metropolis. However, Krypto must master his own powers for a rescue mission when Superman is kidnapped.',\n",
       " '\\nR\\n|\\n105 min\\n|\\n\\nAction            \\n',\n",
       " '\\nConnor Connolly has one day to pay reparations to Tyrone Pettis. He is forced to ask his old military ops crew, led by Brice Mason, to come together to get him two million dollars before he loses everyone he loves in the process.',\n",
       " '\\nT\\n|\\n126 min\\n|\\n\\nAction, Crime, Fantasy            \\n',\n",
       " '\\nWhile Batman deals with a deformed man calling himself the Penguin wreaking havoc across Gotham with the help of a cruel businessman, a female employee of the latter becomes the Catwoman with her own vendetta.']"
      ]
     },
     "execution_count": 7,
     "metadata": {},
     "output_type": "execute_result"
    }
   ],
   "source": [
    "list_of_description = extract_data.find_all(\"p\", class_= \"text-muted\")[1:101]\n",
    "\n",
    "for i in list_of_description:\n",
    "    description.append(i.text)\n",
    "\n",
    "description"
   ]
  },
  {
   "cell_type": "code",
   "execution_count": 8,
   "metadata": {},
   "outputs": [
    {
     "data": {
      "text/plain": [
       "[]"
      ]
     },
     "execution_count": 8,
     "metadata": {},
     "output_type": "execute_result"
    }
   ],
   "source": [
    "list_of_stars = extract_data.find_all (\"p\", class_= \"ghost\" + \"a\", href=\"/name/nm1500155/?ref_=adv_li_st_0\")[1:101]\n",
    "\n",
    "\n",
    "for i in list_of_stars:\n",
    "    stars.append()\n",
    "\n",
    "stars\n",
    "\n",
    "\n"
   ]
  }
 ],
 "metadata": {
  "interpreter": {
   "hash": "430b7d4413b2177f05b848cb6acb02b7196cdff9e6dac31e1a37def6732e5784"
  },
  "kernelspec": {
   "display_name": "Python 3.9.7 ('Strive')",
   "language": "python",
   "name": "python3"
  },
  "language_info": {
   "codemirror_mode": {
    "name": "ipython",
    "version": 3
   },
   "file_extension": ".py",
   "mimetype": "text/x-python",
   "name": "python",
   "nbconvert_exporter": "python",
   "pygments_lexer": "ipython3",
   "version": "3.10.0"
  },
  "orig_nbformat": 4
 },
 "nbformat": 4,
 "nbformat_minor": 2
}
