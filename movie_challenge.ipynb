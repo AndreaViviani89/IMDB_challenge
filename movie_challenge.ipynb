{
 "cells": [
  {
   "cell_type": "code",
   "execution_count": 33,
   "metadata": {},
   "outputs": [],
   "source": [
    "import requests\n",
    "from bs4 import BeautifulSoup\n",
    "import numpy as np\n"
   ]
  },
  {
   "cell_type": "code",
   "execution_count": 34,
   "metadata": {},
   "outputs": [
    {
     "data": {
      "text/plain": [
       "<Response [200]>"
      ]
     },
     "execution_count": 34,
     "metadata": {},
     "output_type": "execute_result"
    }
   ],
   "source": [
    "url = \"https://www.imdb.com/search/title/?genres=action&explore=title_type,genres&pf_rd_m=A2FGELUUNOQJNL&pf_rd_p=e0da8c98-35e8-4ebd-8e86-e7d39c92730c&pf_rd_r=1RKWE9PD01BJ5422PCD3&pf_rd_s=center-2&pf_rd_t=15051&pf_rd_i=genre&ref_=ft_gnr_pr2_i_2\"\n",
    "page = requests.get(url)\n",
    "page\n"
   ]
  },
  {
   "cell_type": "code",
   "execution_count": 35,
   "metadata": {},
   "outputs": [
    {
     "name": "stdout",
     "output_type": "stream",
     "text": [
      "[['Action,', 'Crime,', 'Drama'], ['Action,', 'Adventure,', 'Comedy'], ['Action,', 'Drama,', 'History'], ['Action,', 'Adventure,', 'Sci-Fi'], ['Action,', 'Adventure,', 'Drama'], ['Action,', 'Adventure,', 'Fantasy'], ['Action,', 'Adventure,', 'Biography'], ['Action,', 'Adventure,', 'Thriller'], ['Animation,', 'Action,', 'Adventure'], ['Action,', 'Mystery,', 'Thriller'], ['Action,', 'Crime,', 'Drama'], ['Action,', 'Crime,', 'Drama'], ['Action,', 'Adventure,', 'Drama'], ['Action,', 'Adventure'], ['Action,', 'Adventure,', 'Drama'], ['Action,', 'Adventure,', 'Drama'], ['Action,', 'Adventure,', 'Comedy'], ['Animation,', 'Action,', 'Adventure'], ['Action,', 'Adventure,', 'Drama'], ['Action,', 'Adventure,', 'Comedy'], ['Action,', 'Adventure,', 'Drama'], ['Action,', 'Thriller'], ['Animation,', 'Action,', 'Adventure'], ['Action,', 'Crime,', 'Drama'], ['Action,', 'Adventure,', 'Drama'], ['Action,', 'Adventure,', 'Sci-Fi'], ['Action,', 'Crime,', 'Drama'], ['Action,', 'Adventure,', 'Drama'], ['Action,', 'Crime,', 'Drama'], ['Action,', 'Adventure,', 'Fantasy'], ['Action,', 'Crime,', 'Drama'], ['Action,', 'Adventure,', 'Drama'], ['Action,', 'Crime,', 'Thriller'], ['Action,', 'Adventure,', 'Drama'], ['Action,', 'Adventure,', 'Fantasy'], ['Action,', 'Adventure,', 'Drama'], ['Action,', 'Adventure'], ['Action,', 'Adventure,', 'Fantasy'], ['Action,', 'Drama,', 'Sci-Fi'], ['Action,', 'Adventure,', 'Thriller'], ['Action,', 'Drama'], ['Action,', 'Adventure,', 'Comedy'], ['Action,', 'Sci-Fi'], ['Action,', 'Sci-Fi'], ['Action,', 'Adventure,', 'Comedy'], ['Action,', 'Drama,', 'History'], ['Action,', 'Adventure'], ['Animation,', 'Action,', 'Adventure'], ['Action'], ['Action,', 'Crime,', 'Fantasy']]\n"
     ]
    }
   ],
   "source": [
    "soup = BeautifulSoup(page.content, \"html.parser\")\n",
    "\n",
    "span = soup.find_all('span', class_ = 'genre')\n",
    "\n",
    "genre1 = []\n",
    "for i in span:\n",
    "    genre1.append(i.text.split())\n",
    "print(genre1)    \n",
    "\n"
   ]
  },
  {
   "cell_type": "code",
   "execution_count": 36,
   "metadata": {},
   "outputs": [
    {
     "name": "stdout",
     "output_type": "stream",
     "text": [
      "['8.4', '6.9', '8.5', '7.1', '8.6', '7.4', '6.3', '9.1', '8.2', '9.1', '7.5', '6.7', '8.6', '9.3', '7.2', '7.0', '8.1', '8.5', '8.2', '4.7', '4.8', '7.9', '7.1', '7.5', '8.3', '8.4', '6.4', '8.7', '5.2', '8.3', '7.7', '7.5', '8.8', '7.0', '7.3', '8.2', '3.4', '5.7', '7.2', '7.4', '5.4', '4.8', '7.1']\n"
     ]
    }
   ],
   "source": [
    "span1 = soup.find_all('div', class_ = 'ratings-bar')\n",
    "rating = []\n",
    "\n",
    "for i in span1:\n",
    "    rating.append(i.text.split()[0])\n",
    "print(rating)    "
   ]
  },
  {
   "cell_type": "code",
   "execution_count": null,
   "metadata": {},
   "outputs": [],
   "source": [
    "def movie(url, filename):\n",
    "    url = \"https://www.imdb.com/search/title/?genres=action&explore=title_type,genres&pf_rd_m=A2FGELUUNOQJNL&pf_rd_p=e0da8c98-35e8-4ebd-8e86-e7d39c92730c&pf_rd_r=1RKWE9PD01BJ5422PCD3&pf_rd_s=center-2&pf_rd_t=15051&pf_rd_i=genre&ref_=ft_gnr_pr2_i_2\"\n",
    "page = requests.get(url)\n",
    "    "
   ]
  }
 ],
 "metadata": {
  "interpreter": {
   "hash": "770021e68aae5e5bc49f7a3b6edb919a4a251fef8e7696fd47196c25263b13c4"
  },
  "kernelspec": {
   "display_name": "Python 3.9.7 ('base')",
   "language": "python",
   "name": "python3"
  },
  "language_info": {
   "codemirror_mode": {
    "name": "ipython",
    "version": 3
   },
   "file_extension": ".py",
   "mimetype": "text/x-python",
   "name": "python",
   "nbconvert_exporter": "python",
   "pygments_lexer": "ipython3",
   "version": "3.9.7"
  },
  "orig_nbformat": 4
 },
 "nbformat": 4,
 "nbformat_minor": 2
}
