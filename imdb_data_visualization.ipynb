{
 "cells": [
  {
   "cell_type": "code",
   "execution_count": 2,
   "metadata": {},
   "outputs": [],
   "source": [
    "import pandas as pd\n",
    "import numpy as np\n",
    "import matplotlib.pyplot as plt\n",
    "%matplotlib inline"
   ]
  },
  {
   "cell_type": "code",
   "execution_count": 3,
   "metadata": {},
   "outputs": [
    {
     "data": {
      "text/html": [
       "<div>\n",
       "<style scoped>\n",
       "    .dataframe tbody tr th:only-of-type {\n",
       "        vertical-align: middle;\n",
       "    }\n",
       "\n",
       "    .dataframe tbody tr th {\n",
       "        vertical-align: top;\n",
       "    }\n",
       "\n",
       "    .dataframe thead th {\n",
       "        text-align: right;\n",
       "    }\n",
       "</style>\n",
       "<table border=\"1\" class=\"dataframe\">\n",
       "  <thead>\n",
       "    <tr style=\"text-align: right;\">\n",
       "      <th></th>\n",
       "      <th>title</th>\n",
       "      <th>description</th>\n",
       "      <th>release</th>\n",
       "      <th>director</th>\n",
       "      <th>rating</th>\n",
       "      <th>duration</th>\n",
       "      <th>votes</th>\n",
       "      <th>genre</th>\n",
       "      <th>stars</th>\n",
       "      <th>budget ($ Mil)</th>\n",
       "      <th>Rating / Votes</th>\n",
       "    </tr>\n",
       "  </thead>\n",
       "  <tbody>\n",
       "    <tr>\n",
       "      <th>0</th>\n",
       "      <td>Mad Max: Fury Road</td>\n",
       "      <td>In a post-apocalyptic wasteland, a woman rebel...</td>\n",
       "      <td>2015</td>\n",
       "      <td>George Miller</td>\n",
       "      <td>8.1</td>\n",
       "      <td>120</td>\n",
       "      <td>872463</td>\n",
       "      <td>Action, Adventure, Sci-Fi</td>\n",
       "      <td>Tom Hardy, Charlize Theron, Nicholas Hoult, Zo...</td>\n",
       "      <td>154.06</td>\n",
       "      <td>0.092841</td>\n",
       "    </tr>\n",
       "    <tr>\n",
       "      <th>1</th>\n",
       "      <td>Gone Girl</td>\n",
       "      <td>With his wife's disappearance having become th...</td>\n",
       "      <td>2014</td>\n",
       "      <td>David Fincher</td>\n",
       "      <td>8.1</td>\n",
       "      <td>149</td>\n",
       "      <td>850088</td>\n",
       "      <td>Drama, Mystery, Thriller</td>\n",
       "      <td>Ben Affleck, Rosamund Pike, Neil Patrick Harri...</td>\n",
       "      <td>167.77</td>\n",
       "      <td>0.095284</td>\n",
       "    </tr>\n",
       "    <tr>\n",
       "      <th>2</th>\n",
       "      <td>Die Hard</td>\n",
       "      <td>An NYPD officer tries to save his wife and sev...</td>\n",
       "      <td>1988</td>\n",
       "      <td>John McTiernan</td>\n",
       "      <td>8.2</td>\n",
       "      <td>132</td>\n",
       "      <td>779370</td>\n",
       "      <td>Action, Thriller</td>\n",
       "      <td>Bruce Willis, Alan Rickman, Bonnie Bedelia, Re...</td>\n",
       "      <td>83.01</td>\n",
       "      <td>0.105213</td>\n",
       "    </tr>\n",
       "    <tr>\n",
       "      <th>3</th>\n",
       "      <td>Black Swan</td>\n",
       "      <td>A committed dancer struggles to maintain her s...</td>\n",
       "      <td>2010</td>\n",
       "      <td>Darren Aronofsky</td>\n",
       "      <td>8.0</td>\n",
       "      <td>108</td>\n",
       "      <td>694448</td>\n",
       "      <td>Drama, Thriller</td>\n",
       "      <td>Natalie Portman, Mila Kunis, Vincent Cassel, W...</td>\n",
       "      <td>106.95</td>\n",
       "      <td>0.115199</td>\n",
       "    </tr>\n",
       "    <tr>\n",
       "      <th>4</th>\n",
       "      <td>X-Men: Days of Future Past</td>\n",
       "      <td>The X-Men send Wolverine to the past in a desp...</td>\n",
       "      <td>2014</td>\n",
       "      <td>Bryan Singer</td>\n",
       "      <td>7.9</td>\n",
       "      <td>132</td>\n",
       "      <td>656330</td>\n",
       "      <td>Action, Adventure, Sci-Fi</td>\n",
       "      <td>Patrick Stewart, Ian McKellen, Hugh Jackman, J...</td>\n",
       "      <td>233.92</td>\n",
       "      <td>0.120366</td>\n",
       "    </tr>\n",
       "    <tr>\n",
       "      <th>5</th>\n",
       "      <td>Logan</td>\n",
       "      <td>In a future where mutants are nearly extinct, ...</td>\n",
       "      <td>2017</td>\n",
       "      <td>James Mangold</td>\n",
       "      <td>8.1</td>\n",
       "      <td>137</td>\n",
       "      <td>640427</td>\n",
       "      <td>Action, Drama, Sci-Fi</td>\n",
       "      <td>Hugh Jackman, Patrick Stewart, Dafne Keen, Boy...</td>\n",
       "      <td>226.28</td>\n",
       "      <td>0.126478</td>\n",
       "    </tr>\n",
       "    <tr>\n",
       "      <th>6</th>\n",
       "      <td>Aliens</td>\n",
       "      <td>Fifty-seven years after surviving an apocalypt...</td>\n",
       "      <td>1986</td>\n",
       "      <td>James Cameron</td>\n",
       "      <td>8.3</td>\n",
       "      <td>137</td>\n",
       "      <td>648225</td>\n",
       "      <td>Action, Adventure, Sci-Fi</td>\n",
       "      <td>Sigourney Weaver, Michael Biehn, Carrie Henn, ...</td>\n",
       "      <td>85.16</td>\n",
       "      <td>0.128042</td>\n",
       "    </tr>\n",
       "    <tr>\n",
       "      <th>7</th>\n",
       "      <td>Kingsman: The Secret Service</td>\n",
       "      <td>A spy organisation recruits a promising street...</td>\n",
       "      <td>2014</td>\n",
       "      <td>Matthew Vaughn</td>\n",
       "      <td>7.7</td>\n",
       "      <td>129</td>\n",
       "      <td>586330</td>\n",
       "      <td>Action, Adventure, Comedy</td>\n",
       "      <td>Colin Firth, Taron Egerton, Samuel L. Jackson,...</td>\n",
       "      <td>128.26</td>\n",
       "      <td>0.131325</td>\n",
       "    </tr>\n",
       "    <tr>\n",
       "      <th>8</th>\n",
       "      <td>Argo</td>\n",
       "      <td>Acting under the cover of a Hollywood producer...</td>\n",
       "      <td>2012</td>\n",
       "      <td>Ben Affleck</td>\n",
       "      <td>7.7</td>\n",
       "      <td>120</td>\n",
       "      <td>568892</td>\n",
       "      <td>Biography, Drama, Thriller</td>\n",
       "      <td>Ben Affleck, Bryan Cranston, John Goodman, Ala...</td>\n",
       "      <td>136.03</td>\n",
       "      <td>0.135351</td>\n",
       "    </tr>\n",
       "    <tr>\n",
       "      <th>9</th>\n",
       "      <td>Taken</td>\n",
       "      <td>A retired CIA agent travels across Europe and ...</td>\n",
       "      <td>2008</td>\n",
       "      <td>Pierre Morel</td>\n",
       "      <td>7.8</td>\n",
       "      <td>90</td>\n",
       "      <td>562306</td>\n",
       "      <td>Action, Thriller</td>\n",
       "      <td>Liam Neeson, Maggie Grace, Famke Janssen, Lela...</td>\n",
       "      <td>145.00</td>\n",
       "      <td>0.138715</td>\n",
       "    </tr>\n",
       "  </tbody>\n",
       "</table>\n",
       "</div>"
      ],
      "text/plain": [
       "                          title  \\\n",
       "0            Mad Max: Fury Road   \n",
       "1                     Gone Girl   \n",
       "2                      Die Hard   \n",
       "3                    Black Swan   \n",
       "4    X-Men: Days of Future Past   \n",
       "5                         Logan   \n",
       "6                        Aliens   \n",
       "7  Kingsman: The Secret Service   \n",
       "8                          Argo   \n",
       "9                         Taken   \n",
       "\n",
       "                                         description  release  \\\n",
       "0  In a post-apocalyptic wasteland, a woman rebel...     2015   \n",
       "1  With his wife's disappearance having become th...     2014   \n",
       "2  An NYPD officer tries to save his wife and sev...     1988   \n",
       "3  A committed dancer struggles to maintain her s...     2010   \n",
       "4  The X-Men send Wolverine to the past in a desp...     2014   \n",
       "5  In a future where mutants are nearly extinct, ...     2017   \n",
       "6  Fifty-seven years after surviving an apocalypt...     1986   \n",
       "7  A spy organisation recruits a promising street...     2014   \n",
       "8  Acting under the cover of a Hollywood producer...     2012   \n",
       "9  A retired CIA agent travels across Europe and ...     2008   \n",
       "\n",
       "           director  rating  duration   votes                       genre  \\\n",
       "0     George Miller     8.1       120  872463   Action, Adventure, Sci-Fi   \n",
       "1     David Fincher     8.1       149  850088    Drama, Mystery, Thriller   \n",
       "2    John McTiernan     8.2       132  779370            Action, Thriller   \n",
       "3  Darren Aronofsky     8.0       108  694448             Drama, Thriller   \n",
       "4      Bryan Singer     7.9       132  656330   Action, Adventure, Sci-Fi   \n",
       "5     James Mangold     8.1       137  640427       Action, Drama, Sci-Fi   \n",
       "6     James Cameron     8.3       137  648225   Action, Adventure, Sci-Fi   \n",
       "7    Matthew Vaughn     7.7       129  586330   Action, Adventure, Comedy   \n",
       "8       Ben Affleck     7.7       120  568892  Biography, Drama, Thriller   \n",
       "9      Pierre Morel     7.8        90  562306            Action, Thriller   \n",
       "\n",
       "                                               stars  budget ($ Mil)  \\\n",
       "0  Tom Hardy, Charlize Theron, Nicholas Hoult, Zo...          154.06   \n",
       "1  Ben Affleck, Rosamund Pike, Neil Patrick Harri...          167.77   \n",
       "2  Bruce Willis, Alan Rickman, Bonnie Bedelia, Re...           83.01   \n",
       "3  Natalie Portman, Mila Kunis, Vincent Cassel, W...          106.95   \n",
       "4  Patrick Stewart, Ian McKellen, Hugh Jackman, J...          233.92   \n",
       "5  Hugh Jackman, Patrick Stewart, Dafne Keen, Boy...          226.28   \n",
       "6  Sigourney Weaver, Michael Biehn, Carrie Henn, ...           85.16   \n",
       "7  Colin Firth, Taron Egerton, Samuel L. Jackson,...          128.26   \n",
       "8  Ben Affleck, Bryan Cranston, John Goodman, Ala...          136.03   \n",
       "9  Liam Neeson, Maggie Grace, Famke Janssen, Lela...          145.00   \n",
       "\n",
       "   Rating / Votes  \n",
       "0        0.092841  \n",
       "1        0.095284  \n",
       "2        0.105213  \n",
       "3        0.115199  \n",
       "4        0.120366  \n",
       "5        0.126478  \n",
       "6        0.128042  \n",
       "7        0.131325  \n",
       "8        0.135351  \n",
       "9        0.138715  "
      ]
     },
     "execution_count": 3,
     "metadata": {},
     "output_type": "execute_result"
    }
   ],
   "source": [
    "df = pd.read_csv(\"C:/Users/andre/Documents/Strive_repository/IMDB_challenge/sample_dataset.csv\")\n",
    "df"
   ]
  },
  {
   "cell_type": "code",
   "execution_count": 4,
   "metadata": {},
   "outputs": [
    {
     "data": {
      "text/plain": [
       "7.99"
      ]
     },
     "execution_count": 4,
     "metadata": {},
     "output_type": "execute_result"
    }
   ],
   "source": [
    "df['rating'].mean()"
   ]
  },
  {
   "cell_type": "code",
   "execution_count": 5,
   "metadata": {},
   "outputs": [],
   "source": [
    "df_min_max = df.copy()\n",
    "\n",
    "column_rating = \"rating\"\n",
    "column_duration = \"duration\"\n",
    "df_min_max[column_rating, column_duration] = (df_min_max[column_rating] - df_min_max[column_rating].min()) / (df_min_max[column_rating].max() - df_min_max[column_rating])\n",
    "\n",
    "# display(df_min_max)"
   ]
  },
  {
   "cell_type": "code",
   "execution_count": 6,
   "metadata": {},
   "outputs": [
    {
     "data": {
      "text/plain": [
       "George Miller       1\n",
       "David Fincher       1\n",
       "John McTiernan      1\n",
       "Darren Aronofsky    1\n",
       "Bryan Singer        1\n",
       "James Mangold       1\n",
       "James Cameron       1\n",
       "Matthew Vaughn      1\n",
       "Ben Affleck         1\n",
       "Pierre Morel        1\n",
       "Name: director, dtype: int64"
      ]
     },
     "execution_count": 6,
     "metadata": {},
     "output_type": "execute_result"
    }
   ],
   "source": [
    "df[\"director\"].value_counts()"
   ]
  },
  {
   "cell_type": "code",
   "execution_count": 9,
   "metadata": {},
   "outputs": [
    {
     "data": {
      "text/plain": [
       "Text(0, 0.5, 'Number of movies')"
      ]
     },
     "execution_count": 9,
     "metadata": {},
     "output_type": "execute_result"
    },
    {
     "data": {
      "image/png": "[encoded data removed]",
      "text/plain": [
       "<Figure size 720x576 with 1 Axes>"
      ]
     },
     "metadata": {
      "needs_background": "light"
     },
     "output_type": "display_data"
    }
   ],
   "source": [
    "df[\"director\"].value_counts().nlargest(10).plot(kind=\"bar\", title=\"Number of movies by each director\", figsize=(10,8))\n",
    "\n",
    "plt.xlabel(\"Name of directors\")\n",
    "plt.ylabel(\"Number of movies\")"
   ]
  },
  {
   "cell_type": "code",
   "execution_count": 13,
   "metadata": {},
   "outputs": [
    {
     "data": {
      "text/plain": [
       "<AxesSubplot:xlabel='release', ylabel='title'>"
      ]
     },
     "execution_count": 13,
     "metadata": {},
     "output_type": "execute_result"
    },
    {
     "data": {
      "image/png": "[encoded data removed]",
      "text/plain": [
       "<Figure size 720x720 with 1 Axes>"
      ]
     },
     "metadata": {
      "needs_background": "light"
     },
     "output_type": "display_data"
    }
   ],
   "source": [
    "df.plot.scatter(x=\"release\", y=\"title\", figsize=(10,10))\n"
   ]
  }
 ],
 "metadata": {
  "interpreter": {
   "hash": "430b7d4413b2177f05b848cb6acb02b7196cdff9e6dac31e1a37def6732e5784"
  },
  "kernelspec": {
   "display_name": "Python 3.9.7 ('Strive')",
   "language": "python",
   "name": "python3"
  },
  "language_info": {
   "codemirror_mode": {
    "name": "ipython",
    "version": 3
   },
   "file_extension": ".py",
   "mimetype": "text/x-python",
   "name": "python",
   "nbconvert_exporter": "python",
   "pygments_lexer": "ipython3",
   "version": "3.10.0"
  },
  "orig_nbformat": 4
 },
 "nbformat": 4,
 "nbformat_minor": 2
}
