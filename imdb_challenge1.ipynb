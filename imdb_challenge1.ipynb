{
 "cells": [
  {
   "cell_type": "code",
   "execution_count": 2,
   "metadata": {},
   "outputs": [],
   "source": [
    "import pandas as pd\n",
    "import numpy as np\n",
    "import matplotlib.pyplot as plt\n",
    "\n",
    "import requests\n",
    "from bs4 import BeautifulSoup\n",
    "\n",
    "\n"
   ]
  },
  {
   "cell_type": "code",
   "execution_count": 3,
   "metadata": {},
   "outputs": [],
   "source": [
    "URL = [\"https://www.imdb.com/search/title/?genres=action&explore=title_type,genres&pf_rd_m=A2FGELUUNOQJNL&pf_rd_p=e0da8c98-35e8-4ebd-8e86-e7d39c92730c&pf_rd_r=NCWR107JR3D070SM7GBG&pf_rd_s=center-2&pf_rd_t=15051&pf_rd_i=genre&ref_=ft_gnr_pr2_i_2\",\n",
    "                \"https://www.imdb.com/search/title/?genres=action&start=51&explore=title_type,genres&ref_=adv_nxt\"]\n",
    "  \n"
   ]
  },
  {
   "cell_type": "code",
   "execution_count": 40,
   "metadata": {},
   "outputs": [
    {
     "name": "stdout",
     "output_type": "stream",
     "text": [
      "['Robert Pattinson, Zoë Kravitz, Jeffrey Wright, Colin Farrell', 'Ryan Reynolds, Walker Scobell, Mark Ruffalo, Jennifer Garner', 'Alexander Dreymon, Eliza Butterworth, Arnas Fedaravicius, Mark Rowley', 'Rupert Friend, Hayden Christensen, Ewan McGregor, Joel Edgerton', 'Sam Corlett, Leo Suter, Jóhannes Haukur Jóhannesson, Lujza Richter', 'Tom Holland, Zendaya, Benedict Cumberbatch, Jacob Batalon', 'Rhys Darby, Joel Fry, Samson Kayo, Nathan Foad', 'Ralph Fiennes, Gemma Arterton, Rhys Ifans, Harris Dickinson', 'Yûki Kaji, Marina Inoue, Yui Ishikawa, Josh Grelle', 'Zazie Beetz, Brad Pitt, Aaron Taylor-Johnson, Sandra Bullock', 'Alan Ritchson, Malcolm Goodwin, Willa Fitzgerald, Hugh Thompson', 'Christian Bale, Heath Ledger, Aaron Eckhart, Michael Caine', 'Patrick Stewart, Alison Pill, Michelle Hurd, Isa Briones', 'Tom Holland, Mark Wahlberg, Antonio Banderas, Sophia Ali', 'Katheryn Winnick, Gustaf Skarsgård, Alexander Ludwig, Georgia Hirst', 'Emilia Clarke, Peter Dinklage, Kit Harington, Lena Headey', 'Ryan Reynolds, Jodie Comer, Taika Waititi, Lil Rel Howery', 'Grey Griffin, Antony Starr, Ben Schwartz, Chris Diamantopoulos', 'Timothée Chalamet, Rebecca Ferguson, Zendaya, Oscar Isaac', 'John Cena, Danielle Brooks, Freddie Stroma, Chukwudi Iwuji', 'Jodie Comer, Sandra Oh, Fiona Shaw, Kim Bodnia', 'Liam Neeson, Aidan Quinn, Taylor John Smith, Emmy Raver-Lampman', 'Tiffany Hines, Dallas Page, Sharni Vinson, Denise Richards', 'Mark Harmon, David McCallum, Sean Murray, Pauley Perrette', 'Sonequa Martin-Green, Doug Jones, Anthony Rapp, Emily Coutts', 'Temuera Morrison, Ming-Na Wen, Frank Trigg, Collin Hymes', 'Christian Bale, Michael Caine, Ken Watanabe, Liam Neeson', 'Oscar Isaac, Ethan Hawke, Gaspard Ulliel, F. Murray Abraham', 'Christian Bale, Tom Hardy, Anne Hathaway, Gary Oldman', 'Gemma Chan, Richard Madden, Angelina Jolie, Salma Hayek', 'Karl Urban, Jack Quaid, Antony Starr, Erin Moriarty', 'Jared Leto, Michael Keaton, Adria Arjona, Jared Harris', 'Vin Diesel, Michelle Rodriguez, Jordana Brewster, Tyrese Gibson', 'Henry Cavill, Freya Allan, Anya Chalotra, Mimi Ndiweni', 'Benedict Cumberbatch, Patrick Stewart, Rachel McAdams, Elizabeth Olsen', 'Grant Gustin, Candice Patton, Danielle Panabaker, Carlos Valdes', 'Michael Keaton, Jack Nicholson, Kim Basinger, Robert Wuhl', 'Pedro Pascal, Carl Weathers, Barry Lowin, Gina Carano', 'Daveed Diggs, Mickey Sumner, Alison Wright, Iddo Goldberg', 'Daniel Craig, Ana de Armas, Rami Malek, Léa Seydoux', 'Taylor Kinney, Joe Minoso, Christian Stolte, Eamonn Walker', 'Brad Pitt, Sandra Bullock, Channing Tatum, Daniel Radcliffe', 'Pamela Anderson, Amir AboulEla, Adriana Alexander, David Andriole', 'Keanu Reeves, Carrie-Anne Moss, Yahya Abdul-Mateen II, Jonathan Groff', 'Margot Robbie, Idris Elba, John Cena, Joel Kinnaman', 'Matt Damon, Adam Driver, Jodie Comer, Harriet Walter', 'Val Kilmer, Tommy Lee Jones, Jim Carrey, Nicole Kidman', 'Dwayne Johnson, Kevin Hart, Vanessa Bayer, Natasha Lyonne', 'Bruce Willis, Frank Grillo, Kevin Dillon, Gianni Capaldi', 'Michael Keaton, Danny DeVito, Michelle Pfeiffer, Christopher Walken', 'Ben McKenzie, Jada Pinkett Smith, Donal Logue, Camren Bicondova', \"Arnold Schwarzenegger, George Clooney, Chris O'Donnell, Uma Thurman\", 'Elizabeth Tulloch, Jordan Elsass, Alex Garfin, Erik Valdez', 'Ji-hu Park, Chan-Young Yoon, Yi-Hyun Cho, Park Solomon', 'Natsuki Hanae, Yoshitsugu Matsuoka, Hiro Shimono, Akari Kitô', 'Ralph Macchio, William Zabka, Xolo Maridueña, Courtney Henggeler', 'Cary Elwes, Penelope Mitchell, Elaine Tan, Alphonso McAuley', 'Patrick Stewart, Brent Spiner, Jonathan Frakes, LeVar Burton', 'Hailee Steinfeld, Kevin Alejandro, Jason Spisak, Harry Lloyd', 'Jason Beghe, Jesse Lee Soffer, Patrick John Flueger, Marina Squerciati', 'Tom Cruise, Tim Robbins, Kelly McGillis, Val Kilmer', 'Robert Downey Jr., Chris Evans, Mark Ruffalo, Chris Hemsworth', 'Bob Odenkirk, Aleksey Serebryakov, Connie Nielsen, Christopher Lloyd', 'Colin Firth, Taron Egerton, Samuel L. Jackson, Michael Caine', 'Tom Cruise, Jennifer Connelly, Miles Teller, Jean Louisa Kelly', 'John David Washington, Robert Pattinson, Elizabeth Debicki, Juhan Ulfsak', 'Henry Cavill, Ben Affleck, Gal Gadot, Amy Adams', 'Peter Mullan, Benjamin Walker, Nazanin Boniadi, Morfydd Clark', 'Johnny Knoxville, Steve-O, Chris Pontius, Dave England', 'Julian McMahon, Roxy Sternberg, Keisha Castle-Hughes, YaYa Gosselin', 'Rosamund Pike, Daniel Henney, Madeleine Madden, Zoë Robins', 'Brenton Thwaites, Anna Diop, Ryan Potter, Teagan Croft', 'Jennifer Sun Bell, Kang Ha-neul, Jason Her, Han Hyo-joo', 'Jessica Chastain, Penélope Cruz, Bingbing Fan, Diane Kruger', 'Úrsula Corberó, Álvaro Morte, Itziar Ituño, Pedro Alonso', 'Caity Lotz, Amy Louise Pemberton, Dominic Purcell, Nick Zano', 'Sarah Michelle Gellar, Nicholas Brendon, Alyson Hannigan, Anthony Head', 'Rob Lowe, Ronen Rubinstein, Sierra Aylina McClain, Jim Parrack', 'Gerard Butler, Lena Headey, David Wenham, Dominic West', 'Taika Waititi, Christian Bale, Karen Gillan, Natalie Portman', \"Laura Bailey, Taliesin Jaffe, Ashley Johnson, Liam O'Brien\", 'Alexander Skarsgård, Nicole Kidman, Claes Bang, Ethan Hawke', 'John Krasinski, Wendell Pierce, John Hoogenakker, Abbie Cornish', 'Pablo Schreiber, Natascha McElhone, Yerin Ha, Bokeem Woodbine', 'Simu Liu, Awkwafina, Tony Chiu-Wai Leung, Ben Kingsley', 'Timothy Olyphant, Nick Searcy, Joelle Carter, Jacob Pitts', 'Mayumi Tanaka, Tony Beck, Laurent Vernin, Akemi Okamura', 'Shemar Moore, Alex Russell, Lina Esco, Kenny Johnson', 'Jay Hernandez, Perdita Weeks, Zachary Knighton, Stephen Hill', 'Zoe Saldana, Kate Winslet, Michelle Yeoh, Sigourney Weaver', 'Ben Affleck, Michael Keaton, Ezra Miller, Temuera Morrison', 'Ariana DeBose, Henry Cavill, Samuel L. Jackson, Bryce Dallas Howard', 'Tom Kane, Dee Bradley Baker, Matt Lanter, James Arnold Taylor', 'Lee Jung-jae, Park Hae-soo, Kamran Kiani, Wi Ha-Joon', 'Leonardo DiCaprio, Joseph Gordon-Levitt, Elliot Page, Ken Watanabe', 'Michael Keaton, Maggie Q, Samuel L. Jackson, David Rintoul', 'Nicolas Cage, Jacob Scipio, Pedro Pascal, Demi Moore', \"Paddy Considine, Olivia Cooke, Emma D'Arcy, Matt Smith\", 'Tom Hardy, Woody Harrelson, Michelle Williams, Naomie Harris', 'Jeremy Renner, Hailee Steinfeld, Florence Pugh, Vera Farmiga']\n"
     ]
    }
   ],
   "source": [
    "# Creating the lists that we want to \n",
    "\n",
    "description = []\n",
    "duration=[]\n",
    "release_date=[]\n",
    "movie_director_stars=[]\n",
    "movie_years=[]\n",
    "director_sep = []\n",
    "stars_sep = []\n",
    "\n",
    "\n",
    "#movie_name_info100=extract_data.find\n",
    "\n",
    "movie_name_100=[]\n",
    "\n",
    "for url in range(0,2):\n",
    "    req = requests.get(URL[url])\n",
    "    soup = BeautifulSoup(req.text, 'html.parser')\n",
    "    for container in soup.find_all(\"h3\" ,class_=\"lister-item-header\"):\n",
    "        movie_name_100.append(container.text.replace('\\n', '').strip(')').split('(')[0]) # Extracting tthe top 100 movies \n",
    "        release_date.append(container.text.replace('\\n', '').strip(')').split('(')[1]) # \n",
    "    for release in soup.find_all('span', class_=\"runtime\"):\n",
    "        duration.append(release.text) \n",
    "\n",
    "    for dist in soup.find_all('p', class_=\"text-muted\"):\n",
    "        description.append(dist.text.replace('\\n', '').split()[1][:])\n",
    "\n",
    "    for director in soup.find_all('p', class_ =''):\n",
    "        director_sep.append(director.text.replace(\"\\n\", \"\").split('|')[0].split(':')[1].split(',')[0])\n",
    "        stars_sep.append(director.text.replace(\"\\n\",'').split('Stars:')[1])\n",
    "\n",
    "    for years in soup.find_all('span', class_ ='lister-item-year'):\n",
    "        movie_years.append(years.text)\n",
    "    \n",
    "        \n",
    "# print(director_sep)\n",
    "print(stars_sep)\n",
    "\n",
    "\n"
   ]
  }
 ],
 "metadata": {
  "interpreter": {
   "hash": "430b7d4413b2177f05b848cb6acb02b7196cdff9e6dac31e1a37def6732e5784"
  },
  "kernelspec": {
   "display_name": "Python 3.9.7 ('Strive')",
   "language": "python",
   "name": "python3"
  },
  "language_info": {
   "codemirror_mode": {
    "name": "ipython",
    "version": 3
   },
   "file_extension": ".py",
   "mimetype": "text/x-python",
   "name": "python",
   "nbconvert_exporter": "python",
   "pygments_lexer": "ipython3",
   "version": "3.10.0"
  },
  "orig_nbformat": 4
 },
 "nbformat": 4,
 "nbformat_minor": 2
}
