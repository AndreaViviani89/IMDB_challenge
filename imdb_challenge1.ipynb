{
 "cells": [
  {
   "cell_type": "code",
   "execution_count": 2,
   "metadata": {},
   "outputs": [],
   "source": [
    "import pandas as pd\n",
    "import numpy as np\n",
    "import matplotlib.pyplot as plt\n",
    "\n",
    "import requests\n",
    "from bs4 import BeautifulSoup\n",
    "\n",
    "\n"
   ]
  },
  {
   "cell_type": "code",
   "execution_count": 3,
   "metadata": {},
   "outputs": [],
   "source": [
    "URL = [\"https://www.imdb.com/search/title/?genres=action&explore=title_type,genres&pf_rd_m=A2FGELUUNOQJNL&pf_rd_p=e0da8c98-35e8-4ebd-8e86-e7d39c92730c&pf_rd_r=NCWR107JR3D070SM7GBG&pf_rd_s=center-2&pf_rd_t=15051&pf_rd_i=genre&ref_=ft_gnr_pr2_i_2\",\n",
    "                \"https://www.imdb.com/search/title/?genres=action&start=51&explore=title_type,genres&ref_=adv_nxt\"]\n",
    "  \n"
   ]
  },
  {
   "cell_type": "code",
   "execution_count": 35,
   "metadata": {},
   "outputs": [
    {
     "name": "stdout",
     "output_type": "stream",
     "text": [
      "['Director:Matt Reeves|     Stars:Robert Pattinson, Zoë Kravitz, Jeffrey Wright, Colin Farrell', 'Director:Shawn Levy|     Stars:Ryan Reynolds, Walker Scobell, Mark Ruffalo, Jennifer Garner', 'Stars:Alexander Dreymon, Eliza Butterworth, Arnas Fedaravicius, Mark Rowley', 'Stars:Rupert Friend, Hayden Christensen, Ewan McGregor, Joel Edgerton', 'Stars:Sam Corlett, Leo Suter, Jóhannes Haukur Jóhannesson, Lujza Richter', 'Director:Jon Watts|     Stars:Tom Holland, Zendaya, Benedict Cumberbatch, Jacob Batalon', 'Stars:Rhys Darby, Joel Fry, Samson Kayo, Nathan Foad', 'Director:Matthew Vaughn|     Stars:Ralph Fiennes, Gemma Arterton, Rhys Ifans, Harris Dickinson', 'Stars:Yûki Kaji, Marina Inoue, Yui Ishikawa, Josh Grelle', 'Director:David Leitch|     Stars:Zazie Beetz, Brad Pitt, Aaron Taylor-Johnson, Sandra Bullock', 'Stars:Alan Ritchson, Malcolm Goodwin, Willa Fitzgerald, Hugh Thompson', 'Director:Christopher Nolan|     Stars:Christian Bale, Heath Ledger, Aaron Eckhart, Michael Caine', 'Stars:Patrick Stewart, Alison Pill, Michelle Hurd, Isa Briones', 'Director:Ruben Fleischer|     Stars:Tom Holland, Mark Wahlberg, Antonio Banderas, Sophia Ali', 'Stars:Katheryn Winnick, Gustaf Skarsgård, Alexander Ludwig, Georgia Hirst', 'Stars:Emilia Clarke, Peter Dinklage, Kit Harington, Lena Headey', 'Director:Shawn Levy|     Stars:Ryan Reynolds, Jodie Comer, Taika Waititi, Lil Rel Howery', 'Stars:Grey Griffin, Antony Starr, Ben Schwartz, Chris Diamantopoulos', 'Director:Denis Villeneuve|     Stars:Timothée Chalamet, Rebecca Ferguson, Zendaya, Oscar Isaac', 'Stars:John Cena, Danielle Brooks, Freddie Stroma, Chukwudi Iwuji', 'Stars:Jodie Comer, Sandra Oh, Fiona Shaw, Kim Bodnia', 'Director:Mark Williams|     Stars:Liam Neeson, Aidan Quinn, Taylor John Smith, Emmy Raver-Lampman', 'Stars:Tiffany Hines, Dallas Page, Sharni Vinson, Denise Richards', 'Stars:Mark Harmon, David McCallum, Sean Murray, Pauley Perrette', 'Stars:Sonequa Martin-Green, Doug Jones, Anthony Rapp, Emily Coutts', 'Stars:Temuera Morrison, Ming-Na Wen, Frank Trigg, Collin Hymes', 'Director:Christopher Nolan|     Stars:Christian Bale, Michael Caine, Ken Watanabe, Liam Neeson', 'Stars:Oscar Isaac, Ethan Hawke, Gaspard Ulliel, F. Murray Abraham', 'Director:Christopher Nolan|     Stars:Christian Bale, Tom Hardy, Anne Hathaway, Gary Oldman', 'Director:Chloé Zhao|     Stars:Gemma Chan, Richard Madden, Angelina Jolie, Salma Hayek', 'Stars:Karl Urban, Jack Quaid, Antony Starr, Erin Moriarty', 'Director:Daniel Espinosa|     Stars:Jared Leto, Michael Keaton, Adria Arjona, Jared Harris', 'Director:Justin Lin|     Stars:Vin Diesel, Michelle Rodriguez, Jordana Brewster, Tyrese Gibson', 'Stars:Henry Cavill, Freya Allan, Anya Chalotra, Mimi Ndiweni', 'Director:Sam Raimi|     Stars:Benedict Cumberbatch, Patrick Stewart, Rachel McAdams, Elizabeth Olsen', 'Stars:Grant Gustin, Candice Patton, Danielle Panabaker, Carlos Valdes', 'Director:Tim Burton|     Stars:Michael Keaton, Jack Nicholson, Kim Basinger, Robert Wuhl', 'Stars:Pedro Pascal, Carl Weathers, Barry Lowin, Gina Carano', 'Stars:Daveed Diggs, Mickey Sumner, Alison Wright, Iddo Goldberg', 'Director:Cary Joji Fukunaga|     Stars:Daniel Craig, Ana de Armas, Rami Malek, Léa Seydoux', 'Stars:Taylor Kinney, Joe Minoso, Christian Stolte, Eamonn Walker', 'Directors:Aaron Nee, Adam Nee|     Stars:Brad Pitt, Sandra Bullock, Channing Tatum, Daniel Radcliffe', 'Director:David Hogan|     Stars:Pamela Anderson, Amir AboulEla, Adriana Alexander, David Andriole', 'Director:Lana Wachowski|     Stars:Keanu Reeves, Carrie-Anne Moss, Yahya Abdul-Mateen II, Jonathan Groff', 'Director:James Gunn|     Stars:Margot Robbie, Idris Elba, John Cena, Joel Kinnaman', 'Director:Ridley Scott|     Stars:Matt Damon, Adam Driver, Jodie Comer, Harriet Walter', 'Director:Joel Schumacher|     Stars:Val Kilmer, Tommy Lee Jones, Jim Carrey, Nicole Kidman', 'Directors:Jared Stern, Sam Levine|     Stars:Dwayne Johnson, Kevin Hart, Vanessa Bayer, Natasha Lyonne', 'Director:Wes Miller|     Stars:Bruce Willis, Frank Grillo, Kevin Dillon, Gianni Capaldi', 'Director:Tim Burton|     Stars:Michael Keaton, Danny DeVito, Michelle Pfeiffer, Christopher Walken', 'Stars:Ben McKenzie, Jada Pinkett Smith, Donal Logue, Camren Bicondova', \"Director:Joel Schumacher|     Stars:Arnold Schwarzenegger, George Clooney, Chris O'Donnell, Uma Thurman\", 'Stars:Elizabeth Tulloch, Jordan Elsass, Alex Garfin, Erik Valdez', 'Stars:Ji-hu Park, Chan-Young Yoon, Yi-Hyun Cho, Park Solomon', 'Stars:Natsuki Hanae, Yoshitsugu Matsuoka, Hiro Shimono, Akari Kitô', 'Stars:Ralph Macchio, William Zabka, Xolo Maridueña, Courtney Henggeler', 'Director:Jon McDonald|     Stars:Cary Elwes, Penelope Mitchell, Elaine Tan, Alphonso McAuley', 'Stars:Patrick Stewart, Brent Spiner, Jonathan Frakes, LeVar Burton', 'Stars:Hailee Steinfeld, Kevin Alejandro, Jason Spisak, Harry Lloyd', 'Stars:Jason Beghe, Jesse Lee Soffer, Patrick John Flueger, Marina Squerciati', 'Director:Tony Scott|     Stars:Tom Cruise, Tim Robbins, Kelly McGillis, Val Kilmer', 'Directors:Anthony Russo, Joe Russo|     Stars:Robert Downey Jr., Chris Evans, Mark Ruffalo, Chris Hemsworth', 'Director:Ilya Naishuller|     Stars:Bob Odenkirk, Aleksey Serebryakov, Connie Nielsen, Christopher Lloyd', 'Director:Matthew Vaughn|     Stars:Colin Firth, Taron Egerton, Samuel L. Jackson, Michael Caine', 'Director:Joseph Kosinski|     Stars:Tom Cruise, Jennifer Connelly, Miles Teller, Jean Louisa Kelly', 'Director:Christopher Nolan|     Stars:John David Washington, Robert Pattinson, Elizabeth Debicki, Juhan Ulfsak', 'Director:Zack Snyder|     Stars:Henry Cavill, Ben Affleck, Gal Gadot, Amy Adams', 'Stars:Peter Mullan, Benjamin Walker, Nazanin Boniadi, Morfydd Clark', 'Director:Jeff Tremaine|     Stars:Johnny Knoxville, Steve-O, Chris Pontius, Dave England', 'Stars:Julian McMahon, Roxy Sternberg, Keisha Castle-Hughes, YaYa Gosselin', 'Stars:Rosamund Pike, Daniel Henney, Madeleine Madden, Zoë Robins', 'Stars:Brenton Thwaites, Anna Diop, Ryan Potter, Teagan Croft', 'Director:Jeong-hoon Kim|     Stars:Jennifer Sun Bell, Kang Ha-neul, Jason Her, Han Hyo-joo', 'Director:Simon Kinberg|     Stars:Jessica Chastain, Penélope Cruz, Bingbing Fan, Diane Kruger', 'Stars:Úrsula Corberó, Álvaro Morte, Itziar Ituño, Pedro Alonso', 'Stars:Caity Lotz, Amy Louise Pemberton, Dominic Purcell, Nick Zano', 'Stars:Sarah Michelle Gellar, Nicholas Brendon, Alyson Hannigan, Anthony Head', 'Stars:Rob Lowe, Ronen Rubinstein, Sierra Aylina McClain, Jim Parrack', 'Director:Zack Snyder|     Stars:Gerard Butler, Lena Headey, David Wenham, Dominic West', 'Director:Taika Waititi|     Stars:Taika Waititi, Christian Bale, Karen Gillan, Natalie Portman', \"Stars:Laura Bailey, Taliesin Jaffe, Ashley Johnson, Liam O'Brien\", 'Director:Robert Eggers|     Stars:Alexander Skarsgård, Nicole Kidman, Claes Bang, Ethan Hawke', 'Stars:John Krasinski, Wendell Pierce, John Hoogenakker, Abbie Cornish', 'Stars:Pablo Schreiber, Natascha McElhone, Yerin Ha, Bokeem Woodbine', 'Director:Destin Daniel Cretton|     Stars:Simu Liu, Awkwafina, Tony Chiu-Wai Leung, Ben Kingsley', 'Stars:Timothy Olyphant, Nick Searcy, Joelle Carter, Jacob Pitts', 'Stars:Mayumi Tanaka, Tony Beck, Laurent Vernin, Akemi Okamura', 'Stars:Shemar Moore, Alex Russell, Lina Esco, Kenny Johnson', 'Stars:Jay Hernandez, Perdita Weeks, Zachary Knighton, Stephen Hill', 'Director:James Cameron|     Stars:Zoe Saldana, Kate Winslet, Michelle Yeoh, Sigourney Weaver', 'Director:Andy Muschietti|     Stars:Ben Affleck, Michael Keaton, Ezra Miller, Temuera Morrison', 'Director:Matthew Vaughn|     Stars:Ariana DeBose, Henry Cavill, Samuel L. Jackson, Bryce Dallas Howard', 'Stars:Tom Kane, Dee Bradley Baker, Matt Lanter, James Arnold Taylor', 'Stars:Lee Jung-jae, Park Hae-soo, Kamran Kiani, Wi Ha-Joon', 'Director:Christopher Nolan|     Stars:Leonardo DiCaprio, Joseph Gordon-Levitt, Elliot Page, Ken Watanabe', 'Director:Martin Campbell|     Stars:Michael Keaton, Maggie Q, Samuel L. Jackson, David Rintoul', 'Director:Tom Gormican|     Stars:Nicolas Cage, Jacob Scipio, Pedro Pascal, Demi Moore', \"Stars:Paddy Considine, Olivia Cooke, Emma D'Arcy, Matt Smith\", 'Director:Andy Serkis|     Stars:Tom Hardy, Woody Harrelson, Michelle Williams, Naomie Harris', 'Stars:Jeremy Renner, Hailee Steinfeld, Florence Pugh, Vera Farmiga']\n"
     ]
    }
   ],
   "source": [
    "# Creating the lists that we want to \n",
    "\n",
    "description = []\n",
    "duration=[]\n",
    "release_date=[]\n",
    "movie_director_stars=[]\n",
    "movie_years=[]\n",
    "\n",
    "\n",
    "#movie_name_info100=extract_data.find\n",
    "\n",
    "movie_name_100=[]\n",
    "\n",
    "for url in range(0,2):\n",
    "    req = requests.get(URL[url])\n",
    "    soup = BeautifulSoup(req.text, 'html.parser')\n",
    "    for container in soup.find_all(\"h3\" ,class_=\"lister-item-header\"):\n",
    "        movie_name_100.append(container.text.replace('\\n', '').strip(')').split('(')[0]) # Extracting tthe top 100 movies \n",
    "        release_date.append(container.text.replace('\\n', '').strip(')').split('(')[1]) # \n",
    "    for release in soup.find_all('span', class_=\"runtime\"):\n",
    "        duration.append(release.text) \n",
    "\n",
    "    for dist in soup.find_all('p', class_=\"text-muted\"):\n",
    "        description.append(dist.text.replace('\\n', '').split()[1][:])\n",
    "\n",
    "    for director in soup.find_all('p', class_ =''):\n",
    "        movie_director_stars.append(director.text.replace(\"\\n\", \"\").strip())\n",
    "\n",
    "    for years in soup.find_all('span', class_ ='lister-item-year'):\n",
    "        movie_years.append(years.text)\n",
    "    \n",
    "        \n",
    "print(movie_director_stars)\n",
    "\n",
    "\n",
    "\n",
    "\n"
   ]
  }
 ],
 "metadata": {
  "interpreter": {
   "hash": "430b7d4413b2177f05b848cb6acb02b7196cdff9e6dac31e1a37def6732e5784"
  },
  "kernelspec": {
   "display_name": "Python 3.9.7 ('Strive')",
   "language": "python",
   "name": "python3"
  },
  "language_info": {
   "codemirror_mode": {
    "name": "ipython",
    "version": 3
   },
   "file_extension": ".py",
   "mimetype": "text/x-python",
   "name": "python",
   "nbconvert_exporter": "python",
   "pygments_lexer": "ipython3",
   "version": "3.10.0"
  },
  "orig_nbformat": 4
 },
 "nbformat": 4,
 "nbformat_minor": 2
}
