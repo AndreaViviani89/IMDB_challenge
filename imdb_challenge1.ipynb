{
 "cells": [
  {
   "cell_type": "code",
   "execution_count": 1,
   "metadata": {},
   "outputs": [],
   "source": [
    "import pandas as pd\n",
    "import numpy as np\n",
    "import matplotlib.pyplot as plt\n",
    "\n",
    "import requests\n",
    "from bs4 import BeautifulSoup\n",
    "\n",
    "\n"
   ]
  },
  {
   "cell_type": "code",
   "execution_count": 2,
   "metadata": {},
   "outputs": [],
   "source": [
    "URL = [\"https://www.imdb.com/search/title/?genres=action&explore=title_type,genres&pf_rd_m=A2FGELUUNOQJNL&pf_rd_p=e0da8c98-35e8-4ebd-8e86-e7d39c92730c&pf_rd_r=NCWR107JR3D070SM7GBG&pf_rd_s=center-2&pf_rd_t=15051&pf_rd_i=genre&ref_=ft_gnr_pr2_i_2\",\n",
    "                \"https://www.imdb.com/search/title/?genres=action&start=51&explore=title_type,genres&ref_=adv_nxt\"]\n",
    "  \n"
   ]
  },
  {
   "cell_type": "code",
   "execution_count": 3,
   "metadata": {},
   "outputs": [
    {
     "name": "stdout",
     "output_type": "stream",
     "text": [
      "100\n"
     ]
    }
   ],
   "source": [
    "# Creating the lists that we want to \n",
    "description =[]\n",
    "duration=[]\n",
    "release_date=[]\n",
    "movie_director_stars=[]\n",
    "movie_years=[]\n",
    "director_sep = []\n",
    "stars_sep = []\n",
    "rating = []\n",
    "genre=[]\n",
    "\n",
    "votes=[]\n",
    "#movie_name_info100=extract_data.find\n",
    "\n",
    "movie_name_100=[]\n",
    "\n",
    "for url in range(0,2):\n",
    "    req = requests.get(URL[url])\n",
    "    soup = BeautifulSoup(req.text, 'html.parser')\n",
    "    for container in soup.find_all(\"h3\" ,class_=\"lister-item-header\"):\n",
    "        movie_name_100.append(container.text.replace('\\n', '').strip(')').split('(')[0]) # Extracting tthe top 100 movies \n",
    "        release_date.append(container.text.replace('\\n', '').strip(')').split('(')[1]) # \n",
    "    for release in soup.find_all('span', class_=\"runtime\"):\n",
    "        duration.append(release.text) \n",
    "\n",
    "    for dist in soup.find_all('p', class_=\"text-muted\"):\n",
    "        description.append(dist.text.replace('\\n', '').split()[1][:])\n",
    "\n",
    "    for director in soup.find_all('p', class_ =''):\n",
    "        director_sep.append(director.text.replace(\"\\n\", \"\").split('|')[0].split(':')[1].split(',')[0])\n",
    "        stars_sep.append(director.text.replace(\"\\n\",'').split('Stars:')[1])\n",
    "\n",
    "    for years in soup.find_all('span', class_ ='lister-item-year'):\n",
    "        movie_years.append(years.text)\n",
    "    \n",
    "    for rate in soup.find_all('div', class_ = 'ratings-bar'):\n",
    "        rating.append(rate.text.split()[0])\n",
    "    \n",
    "    for genres in soup.find_all('span', class_ = 'genre'):\n",
    "        genre.append(genres.text.replace(',','').split())\n",
    "\n",
    "    for vote in soup.find_all('p',class_=\"sort-num_votes-visible\"):\n",
    "        votes.append(int(vote.text.split()[1].replace(',','')))\n",
    "\n",
    "print(len(genre))\n"
   ]
  }
 ],
 "metadata": {
  "interpreter": {
   "hash": "430b7d4413b2177f05b848cb6acb02b7196cdff9e6dac31e1a37def6732e5784"
  },
  "kernelspec": {
   "display_name": "Python 3.9.7 ('Strive')",
   "language": "python",
   "name": "python3"
  },
  "language_info": {
   "codemirror_mode": {
    "name": "ipython",
    "version": 3
   },
   "file_extension": ".py",
   "mimetype": "text/x-python",
   "name": "python",
   "nbconvert_exporter": "python",
   "pygments_lexer": "ipython3",
   "version": "3.10.0"
  },
  "orig_nbformat": 4
 },
 "nbformat": 4,
 "nbformat_minor": 2
}
